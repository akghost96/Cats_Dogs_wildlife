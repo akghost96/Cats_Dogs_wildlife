{
 "cells": [
  {
   "cell_type": "code",
   "execution_count": 1,
   "source": [
    "import tensorflow as tf\r\n",
    "import matplotlib as pyplot\r\n",
    "import numpy as np\r\n",
    "tf.keras.mixed_precision.set_global_policy('mixed_float16')"
   ],
   "outputs": [
    {
     "output_type": "stream",
     "name": "stdout",
     "text": [
      "INFO:tensorflow:Mixed precision compatibility check (mixed_float16): OK\n",
      "Your GPU will likely run quickly with dtype policy mixed_float16 as it has compute capability of at least 7.0. Your GPU: NVIDIA GeForce RTX 3090, compute capability 8.6\n"
     ]
    }
   ],
   "metadata": {}
  },
  {
   "cell_type": "code",
   "execution_count": 2,
   "source": [
    "img_size=512\r\n",
    "\r\n",
    "train_set = 'F:/C_D_W/train'\r\n",
    "valid_set = 'F:/C_D_W/val'\r\n",
    "\r\n",
    "data_aug = tf.keras.Sequential([\r\n",
    "    tf.keras.layers.experimental.preprocessing.Rescaling(scale=1./255,input_shape=(img_size,img_size,3)),\r\n",
    "    tf.keras.layers.experimental.preprocessing.RandomZoom(0.2),\r\n",
    "    tf.keras.layers.experimental.preprocessing.RandomFlip('horizontal'),\r\n",
    "   # tf.keras.layers.experimental.preprocessing.RandomWidth(0.1),\r\n",
    "    tf.keras.layers.experimental.preprocessing.RandomRotation(0.1)\r\n",
    "])\r\n",
    "\r\n",
    "data_aug_test= tf.keras.Sequential([\r\n",
    "    tf.keras.layers.experimental.preprocessing.Rescaling(scale=1./255)\r\n",
    "    ])"
   ],
   "outputs": [],
   "metadata": {}
  },
  {
   "cell_type": "code",
   "execution_count": 3,
   "source": [
    "train = tf.keras.preprocessing.image_dataset_from_directory(train_set, image_size=(img_size,img_size),batch_size=64)\r\n",
    "class_names = train.class_names\r\n",
    "num_classes = len(train.class_names)\r\n",
    "train = train.map(lambda x,y:(data_aug(x,training=True),y),num_parallel_calls=12).prefetch(tf.data.AUTOTUNE).cache()"
   ],
   "outputs": [
    {
     "output_type": "stream",
     "name": "stdout",
     "text": [
      "Found 14630 files belonging to 3 classes.\n"
     ]
    }
   ],
   "metadata": {}
  },
  {
   "cell_type": "code",
   "execution_count": 4,
   "source": [
    "valid = tf.keras.preprocessing.image_dataset_from_directory(valid_set, image_size=(img_size,img_size),batch_size=64,subset='training',seed=52,validation_split=0.4)\r\n",
    "valid = valid.map(lambda x,y:(data_aug_test(x,training=True),y),num_parallel_calls=12).prefetch(tf.data.AUTOTUNE).cache()"
   ],
   "outputs": [
    {
     "output_type": "stream",
     "name": "stdout",
     "text": [
      "Found 1500 files belonging to 3 classes.\n",
      "Using 900 files for training.\n"
     ]
    }
   ],
   "metadata": {}
  },
  {
   "cell_type": "code",
   "execution_count": 5,
   "source": [
    "test = tf.keras.preprocessing.image_dataset_from_directory(valid_set, image_size=(img_size,img_size),batch_size=64,subset='validation',seed=52,validation_split=0.4)\r\n",
    "test = test.map(lambda x,y:(data_aug_test(x,training=True),y),num_parallel_calls=12).prefetch(tf.data.AUTOTUNE)"
   ],
   "outputs": [
    {
     "output_type": "stream",
     "name": "stdout",
     "text": [
      "Found 1500 files belonging to 3 classes.\n",
      "Using 600 files for validation.\n"
     ]
    }
   ],
   "metadata": {}
  },
  {
   "cell_type": "code",
   "execution_count": 6,
   "source": [
    "transfer_model = tf.keras.applications.Xception(include_top=False)\r\n",
    "transfer_model.trainable=False"
   ],
   "outputs": [],
   "metadata": {}
  },
  {
   "cell_type": "code",
   "execution_count": 7,
   "source": [
    "inputs = tf.keras.layers.Input(shape=(img_size,img_size,3))\r\n",
    "x=transfer_model(inputs, training=False)\r\n",
    "x=tf.keras.layers.GlobalAveragePooling2D()(x)\r\n",
    "x=tf.keras.layers.Dense(num_classes)(x)\r\n",
    "outputs = tf.keras.layers.Activation('softmax',dtype=tf.float32,name='activation')(x)\r\n",
    "model_1 = tf.keras.Model(inputs,outputs)"
   ],
   "outputs": [],
   "metadata": {}
  },
  {
   "cell_type": "code",
   "execution_count": 8,
   "source": [
    "model_1.compile(loss='sparse_categorical_crossentropy',optimizer='adam',metrics=['acc'])"
   ],
   "outputs": [],
   "metadata": {}
  },
  {
   "cell_type": "code",
   "execution_count": 9,
   "source": [
    "transfer = model_1.fit(train,epochs=3,validation_data=valid)"
   ],
   "outputs": [
    {
     "output_type": "stream",
     "name": "stdout",
     "text": [
      "Epoch 1/3\n",
      "229/229 [==============================] - 108s 436ms/step - loss: 0.1836 - acc: 0.9772 - val_loss: 0.0421 - val_acc: 0.9989\n",
      "Epoch 2/3\n",
      "229/229 [==============================] - 33s 142ms/step - loss: 0.0303 - acc: 0.9969 - val_loss: 0.0192 - val_acc: 0.9989\n",
      "Epoch 3/3\n",
      "229/229 [==============================] - 33s 142ms/step - loss: 0.0183 - acc: 0.9973 - val_loss: 0.0122 - val_acc: 0.9989\n"
     ]
    }
   ],
   "metadata": {}
  },
  {
   "cell_type": "code",
   "execution_count": 10,
   "source": [
    "transfer_model.trainable=True"
   ],
   "outputs": [],
   "metadata": {}
  },
  {
   "cell_type": "code",
   "execution_count": 11,
   "source": [
    "for layer in transfer_model.layers[:-20]:\r\n",
    "    layer.trainable=False"
   ],
   "outputs": [],
   "metadata": {}
  },
  {
   "cell_type": "code",
   "execution_count": 12,
   "source": [
    "model_1.compile(loss='sparse_categorical_crossentropy',optimizer='adam',metrics=['acc'])"
   ],
   "outputs": [],
   "metadata": {}
  },
  {
   "cell_type": "code",
   "execution_count": 13,
   "source": [
    "final_epochs =5\r\n",
    "fine_model = model_1.fit(train,epochs=final_epochs,validation_data=valid,initial_epoch=transfer.epoch[-1])"
   ],
   "outputs": [
    {
     "output_type": "stream",
     "name": "stdout",
     "text": [
      "Epoch 3/5\n",
      "229/229 [==============================] - 43s 175ms/step - loss: 0.4921 - acc: 0.9672 - val_loss: 0.0102 - val_acc: 0.9978\n",
      "Epoch 4/5\n",
      "229/229 [==============================] - 39s 171ms/step - loss: 0.0207 - acc: 0.9954 - val_loss: 0.0038 - val_acc: 0.9989\n",
      "Epoch 5/5\n",
      "229/229 [==============================] - 40s 173ms/step - loss: 0.0069 - acc: 0.9976 - val_loss: 0.0012 - val_acc: 1.0000\n"
     ]
    }
   ],
   "metadata": {}
  },
  {
   "cell_type": "code",
   "execution_count": 14,
   "source": [
    "model_1.evaluate(test)"
   ],
   "outputs": [
    {
     "output_type": "stream",
     "name": "stdout",
     "text": [
      "10/10 [==============================] - 2s 137ms/step - loss: 0.0241 - acc: 0.9967\n"
     ]
    },
    {
     "output_type": "execute_result",
     "data": {
      "text/plain": [
       "[0.024145158007740974, 0.996666669845581]"
      ]
     },
     "metadata": {},
     "execution_count": 14
    }
   ],
   "metadata": {}
  },
  {
   "cell_type": "code",
   "execution_count": 16,
   "source": [
    "image = 'C:/Users/akghost96/Downloads/IMG_20210803_120856.jpg'\r\n",
    "img = tf.keras.preprocessing.image.load_img(image, target_size=(img_size,img_size))\r\n",
    "img = tf.keras.preprocessing.image.img_to_array(img)\r\n",
    "img = tf.expand_dims(img,axis=0)\r\n",
    "img = img/255\r\n",
    "\r\n",
    "prediction = model_1.predict(img)\r\n",
    "class_names[np.argmax(prediction)]\r\n"
   ],
   "outputs": [
    {
     "output_type": "stream",
     "name": "stderr",
     "text": [
      "C:\\Users\\akghost96\\AppData\\Local\\Programs\\Python\\Python39\\lib\\site-packages\\tensorflow\\python\\keras\\engine\\sequential.py:455: UserWarning: `model.predict_classes()` is deprecated and will be removed after 2021-01-01. Please use instead:* `np.argmax(model.predict(x), axis=-1)`,   if your model does multi-class classification   (e.g. if it uses a `softmax` last-layer activation).* `(model.predict(x) > 0.5).astype(\"int32\")`,   if your model does binary classification   (e.g. if it uses a `sigmoid` last-layer activation).\n",
      "  warnings.warn('`model.predict_classes()` is deprecated and '\n"
     ]
    },
    {
     "output_type": "execute_result",
     "data": {
      "text/plain": [
       "array([1], dtype=int64)"
      ]
     },
     "metadata": {},
     "execution_count": 16
    }
   ],
   "metadata": {}
  },
  {
   "cell_type": "code",
   "execution_count": null,
   "source": [
    "tf.keras.models.save_model(model_1,'xception_9988.h5')"
   ],
   "outputs": [],
   "metadata": {}
  },
  {
   "cell_type": "code",
   "execution_count": null,
   "source": [
    "model_2 = tf.keras.models.load_model('F:/C_D_W/xception_9988.h5')"
   ],
   "outputs": [],
   "metadata": {}
  },
  {
   "cell_type": "code",
   "execution_count": null,
   "source": [
    "class_names[np.argmax(model_2.predict(img))]"
   ],
   "outputs": [],
   "metadata": {}
  },
  {
   "cell_type": "code",
   "execution_count": null,
   "source": [],
   "outputs": [],
   "metadata": {}
  }
 ],
 "metadata": {
  "orig_nbformat": 4,
  "language_info": {
   "name": "python",
   "version": "3.9.6",
   "mimetype": "text/x-python",
   "codemirror_mode": {
    "name": "ipython",
    "version": 3
   },
   "pygments_lexer": "ipython3",
   "nbconvert_exporter": "python",
   "file_extension": ".py"
  },
  "kernelspec": {
   "name": "python3",
   "display_name": "Python 3.9.6 64-bit"
  },
  "interpreter": {
   "hash": "71da8102031d35fa1af3fda8c0c685000f00e853a9e2079a640f42dc86bc2fc0"
  }
 },
 "nbformat": 4,
 "nbformat_minor": 2
}